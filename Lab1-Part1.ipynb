{
 "cells": [
  {
   "cell_type": "code",
   "execution_count": 5,
   "id": "7abb4638-6bc4-4b1d-9ddc-4fa6ad870879",
   "metadata": {},
   "outputs": [],
   "source": [
    "import torch"
   ]
  },
  {
   "cell_type": "code",
   "execution_count": 6,
   "id": "c65d1ea8-7990-4b5e-8fab-086f2d82e551",
   "metadata": {},
   "outputs": [],
   "source": [
    "import numpy as np\n",
    "import pandas as pd\n",
    "import torch.nn as nn\n",
    "import torch.optim as optim\n",
    "from sklearn.model_selection import train_test_split\n",
    "from sklearn.preprocessing import StandardScaler, LabelEncoder\n",
    "import matplotlib.pyplot as plt\n",
    "import seaborn as sns"
   ]
  },
  {
   "cell_type": "code",
   "execution_count": 7,
   "id": "12f12167-1664-446a-afd2-d28a2bdee98b",
   "metadata": {},
   "outputs": [
    {
     "data": {
      "text/html": [
       "<div>\n",
       "<style scoped>\n",
       "    .dataframe tbody tr th:only-of-type {\n",
       "        vertical-align: middle;\n",
       "    }\n",
       "\n",
       "    .dataframe tbody tr th {\n",
       "        vertical-align: top;\n",
       "    }\n",
       "\n",
       "    .dataframe thead th {\n",
       "        text-align: right;\n",
       "    }\n",
       "</style>\n",
       "<table border=\"1\" class=\"dataframe\">\n",
       "  <thead>\n",
       "    <tr style=\"text-align: right;\">\n",
       "      <th></th>\n",
       "      <th>customerID</th>\n",
       "      <th>gender</th>\n",
       "      <th>SeniorCitizen</th>\n",
       "      <th>Partner</th>\n",
       "      <th>Dependents</th>\n",
       "      <th>tenure</th>\n",
       "      <th>PhoneService</th>\n",
       "      <th>MultipleLines</th>\n",
       "      <th>InternetService</th>\n",
       "      <th>OnlineSecurity</th>\n",
       "      <th>...</th>\n",
       "      <th>DeviceProtection</th>\n",
       "      <th>TechSupport</th>\n",
       "      <th>StreamingTV</th>\n",
       "      <th>StreamingMovies</th>\n",
       "      <th>Contract</th>\n",
       "      <th>PaperlessBilling</th>\n",
       "      <th>PaymentMethod</th>\n",
       "      <th>MonthlyCharges</th>\n",
       "      <th>TotalCharges</th>\n",
       "      <th>Churn</th>\n",
       "    </tr>\n",
       "  </thead>\n",
       "  <tbody>\n",
       "    <tr>\n",
       "      <th>0</th>\n",
       "      <td>7590-VHVEG</td>\n",
       "      <td>Female</td>\n",
       "      <td>0</td>\n",
       "      <td>Yes</td>\n",
       "      <td>No</td>\n",
       "      <td>1</td>\n",
       "      <td>No</td>\n",
       "      <td>No phone service</td>\n",
       "      <td>DSL</td>\n",
       "      <td>No</td>\n",
       "      <td>...</td>\n",
       "      <td>No</td>\n",
       "      <td>No</td>\n",
       "      <td>No</td>\n",
       "      <td>No</td>\n",
       "      <td>Month-to-month</td>\n",
       "      <td>Yes</td>\n",
       "      <td>Electronic check</td>\n",
       "      <td>29.85</td>\n",
       "      <td>29.85</td>\n",
       "      <td>No</td>\n",
       "    </tr>\n",
       "    <tr>\n",
       "      <th>1</th>\n",
       "      <td>5575-GNVDE</td>\n",
       "      <td>Male</td>\n",
       "      <td>0</td>\n",
       "      <td>No</td>\n",
       "      <td>No</td>\n",
       "      <td>34</td>\n",
       "      <td>Yes</td>\n",
       "      <td>No</td>\n",
       "      <td>DSL</td>\n",
       "      <td>Yes</td>\n",
       "      <td>...</td>\n",
       "      <td>Yes</td>\n",
       "      <td>No</td>\n",
       "      <td>No</td>\n",
       "      <td>No</td>\n",
       "      <td>One year</td>\n",
       "      <td>No</td>\n",
       "      <td>Mailed check</td>\n",
       "      <td>56.95</td>\n",
       "      <td>1889.5</td>\n",
       "      <td>No</td>\n",
       "    </tr>\n",
       "    <tr>\n",
       "      <th>2</th>\n",
       "      <td>3668-QPYBK</td>\n",
       "      <td>Male</td>\n",
       "      <td>0</td>\n",
       "      <td>No</td>\n",
       "      <td>No</td>\n",
       "      <td>2</td>\n",
       "      <td>Yes</td>\n",
       "      <td>No</td>\n",
       "      <td>DSL</td>\n",
       "      <td>Yes</td>\n",
       "      <td>...</td>\n",
       "      <td>No</td>\n",
       "      <td>No</td>\n",
       "      <td>No</td>\n",
       "      <td>No</td>\n",
       "      <td>Month-to-month</td>\n",
       "      <td>Yes</td>\n",
       "      <td>Mailed check</td>\n",
       "      <td>53.85</td>\n",
       "      <td>108.15</td>\n",
       "      <td>Yes</td>\n",
       "    </tr>\n",
       "    <tr>\n",
       "      <th>3</th>\n",
       "      <td>7795-CFOCW</td>\n",
       "      <td>Male</td>\n",
       "      <td>0</td>\n",
       "      <td>No</td>\n",
       "      <td>No</td>\n",
       "      <td>45</td>\n",
       "      <td>No</td>\n",
       "      <td>No phone service</td>\n",
       "      <td>DSL</td>\n",
       "      <td>Yes</td>\n",
       "      <td>...</td>\n",
       "      <td>Yes</td>\n",
       "      <td>Yes</td>\n",
       "      <td>No</td>\n",
       "      <td>No</td>\n",
       "      <td>One year</td>\n",
       "      <td>No</td>\n",
       "      <td>Bank transfer (automatic)</td>\n",
       "      <td>42.30</td>\n",
       "      <td>1840.75</td>\n",
       "      <td>No</td>\n",
       "    </tr>\n",
       "    <tr>\n",
       "      <th>4</th>\n",
       "      <td>9237-HQITU</td>\n",
       "      <td>Female</td>\n",
       "      <td>0</td>\n",
       "      <td>No</td>\n",
       "      <td>No</td>\n",
       "      <td>2</td>\n",
       "      <td>Yes</td>\n",
       "      <td>No</td>\n",
       "      <td>Fiber optic</td>\n",
       "      <td>No</td>\n",
       "      <td>...</td>\n",
       "      <td>No</td>\n",
       "      <td>No</td>\n",
       "      <td>No</td>\n",
       "      <td>No</td>\n",
       "      <td>Month-to-month</td>\n",
       "      <td>Yes</td>\n",
       "      <td>Electronic check</td>\n",
       "      <td>70.70</td>\n",
       "      <td>151.65</td>\n",
       "      <td>Yes</td>\n",
       "    </tr>\n",
       "  </tbody>\n",
       "</table>\n",
       "<p>5 rows × 21 columns</p>\n",
       "</div>"
      ],
      "text/plain": [
       "   customerID  gender  SeniorCitizen Partner Dependents  tenure PhoneService  \\\n",
       "0  7590-VHVEG  Female              0     Yes         No       1           No   \n",
       "1  5575-GNVDE    Male              0      No         No      34          Yes   \n",
       "2  3668-QPYBK    Male              0      No         No       2          Yes   \n",
       "3  7795-CFOCW    Male              0      No         No      45           No   \n",
       "4  9237-HQITU  Female              0      No         No       2          Yes   \n",
       "\n",
       "      MultipleLines InternetService OnlineSecurity  ... DeviceProtection  \\\n",
       "0  No phone service             DSL             No  ...               No   \n",
       "1                No             DSL            Yes  ...              Yes   \n",
       "2                No             DSL            Yes  ...               No   \n",
       "3  No phone service             DSL            Yes  ...              Yes   \n",
       "4                No     Fiber optic             No  ...               No   \n",
       "\n",
       "  TechSupport StreamingTV StreamingMovies        Contract PaperlessBilling  \\\n",
       "0          No          No              No  Month-to-month              Yes   \n",
       "1          No          No              No        One year               No   \n",
       "2          No          No              No  Month-to-month              Yes   \n",
       "3         Yes          No              No        One year               No   \n",
       "4          No          No              No  Month-to-month              Yes   \n",
       "\n",
       "               PaymentMethod MonthlyCharges  TotalCharges Churn  \n",
       "0           Electronic check          29.85         29.85    No  \n",
       "1               Mailed check          56.95        1889.5    No  \n",
       "2               Mailed check          53.85        108.15   Yes  \n",
       "3  Bank transfer (automatic)          42.30       1840.75    No  \n",
       "4           Electronic check          70.70        151.65   Yes  \n",
       "\n",
       "[5 rows x 21 columns]"
      ]
     },
     "execution_count": 7,
     "metadata": {},
     "output_type": "execute_result"
    }
   ],
   "source": [
    "#loading the data\n",
    "df=pd.read_csv(\"WA_Fn-UseC_-Telco-Customer-Churn (1).csv\")\n",
    "df.head()"
   ]
  },
  {
   "cell_type": "code",
   "execution_count": 8,
   "id": "cec76e9c-9f24-409c-8327-0ce7564e16de",
   "metadata": {},
   "outputs": [
    {
     "name": "stdout",
     "output_type": "stream",
     "text": [
      "<class 'pandas.core.frame.DataFrame'>\n",
      "RangeIndex: 7043 entries, 0 to 7042\n",
      "Data columns (total 21 columns):\n",
      " #   Column            Non-Null Count  Dtype  \n",
      "---  ------            --------------  -----  \n",
      " 0   customerID        7043 non-null   object \n",
      " 1   gender            7043 non-null   object \n",
      " 2   SeniorCitizen     7043 non-null   int64  \n",
      " 3   Partner           7043 non-null   object \n",
      " 4   Dependents        7043 non-null   object \n",
      " 5   tenure            7043 non-null   int64  \n",
      " 6   PhoneService      7043 non-null   object \n",
      " 7   MultipleLines     7043 non-null   object \n",
      " 8   InternetService   7043 non-null   object \n",
      " 9   OnlineSecurity    7043 non-null   object \n",
      " 10  OnlineBackup      7043 non-null   object \n",
      " 11  DeviceProtection  7043 non-null   object \n",
      " 12  TechSupport       7043 non-null   object \n",
      " 13  StreamingTV       7043 non-null   object \n",
      " 14  StreamingMovies   7043 non-null   object \n",
      " 15  Contract          7043 non-null   object \n",
      " 16  PaperlessBilling  7043 non-null   object \n",
      " 17  PaymentMethod     7043 non-null   object \n",
      " 18  MonthlyCharges    7043 non-null   float64\n",
      " 19  TotalCharges      7043 non-null   object \n",
      " 20  Churn             7043 non-null   object \n",
      "dtypes: float64(1), int64(2), object(18)\n",
      "memory usage: 1.1+ MB\n"
     ]
    }
   ],
   "source": [
    "df.info()"
   ]
  },
  {
   "cell_type": "code",
   "execution_count": 9,
   "id": "639c3d96-e198-4f7b-b5f6-576b686ce7d5",
   "metadata": {},
   "outputs": [
    {
     "name": "stdout",
     "output_type": "stream",
     "text": [
      "Churn\n",
      "No     5174\n",
      "Yes    1869\n",
      "Name: count, dtype: int64\n"
     ]
    }
   ],
   "source": [
    "churn_dist=df['Churn'].value_counts()\n",
    "print(churn_dist)"
   ]
  },
  {
   "cell_type": "code",
   "execution_count": 11,
   "id": "a7a6af18-ce75-4339-9e81-18be43762302",
   "metadata": {},
   "outputs": [
    {
     "data": {
      "image/png": "[encoded data removed]",
      "text/plain": [
       "<Figure size 1000x500 with 1 Axes>"
      ]
     },
     "metadata": {},
     "output_type": "display_data"
    }
   ],
   "source": [
    "#visualization of class distribution\n",
    "plt.figure(figsize=(10,5))\n",
    "sns.barplot(x=churn_dist.index,y=churn_dist.values)\n",
    "plt.title(\"Class distribution\")\n",
    "plt.xlabel(\"Category\")\n",
    "plt.ylabel(\"Count\")\n",
    "plt.show()"
   ]
  },
  {
   "cell_type": "code",
   "execution_count": 12,
   "id": "30286ec7-54b1-4fab-a14a-bb135c4733dd",
   "metadata": {},
   "outputs": [
    {
     "name": "stdout",
     "output_type": "stream",
     "text": [
      "unique categories ['No phone service' 'No' 'Yes']\n",
      "value counts MultipleLines\n",
      "No                  3390\n",
      "Yes                 2971\n",
      "No phone service     682\n",
      "Name: count, dtype: int64\n",
      "unique categories ['DSL' 'Fiber optic' 'No']\n",
      "value counts InternetService\n",
      "Fiber optic    3096\n",
      "DSL            2421\n",
      "No             1526\n",
      "Name: count, dtype: int64\n",
      "unique categories ['No' 'Yes' 'No internet service']\n",
      "value counts OnlineSecurity\n",
      "No                     3498\n",
      "Yes                    2019\n",
      "No internet service    1526\n",
      "Name: count, dtype: int64\n",
      "unique categories ['Yes' 'No' 'No internet service']\n",
      "value counts OnlineBackup\n",
      "No                     3088\n",
      "Yes                    2429\n",
      "No internet service    1526\n",
      "Name: count, dtype: int64\n",
      "unique categories ['No' 'Yes' 'No internet service']\n",
      "value counts DeviceProtection\n",
      "No                     3095\n",
      "Yes                    2422\n",
      "No internet service    1526\n",
      "Name: count, dtype: int64\n",
      "unique categories ['No' 'Yes' 'No internet service']\n",
      "value counts TechSupport\n",
      "No                     3473\n",
      "Yes                    2044\n",
      "No internet service    1526\n",
      "Name: count, dtype: int64\n",
      "unique categories ['No' 'Yes' 'No internet service']\n",
      "value counts StreamingTV\n",
      "No                     2810\n",
      "Yes                    2707\n",
      "No internet service    1526\n",
      "Name: count, dtype: int64\n",
      "unique categories ['No' 'Yes' 'No internet service']\n",
      "value counts StreamingMovies\n",
      "No                     2785\n",
      "Yes                    2732\n",
      "No internet service    1526\n",
      "Name: count, dtype: int64\n"
     ]
    }
   ],
   "source": [
    "#from a perspective of analyzing churn, we need to understand the service provided better\n",
    "service_columns=['MultipleLines','InternetService','OnlineSecurity','OnlineBackup','DeviceProtection','TechSupport',\n",
    "                 'StreamingTV','StreamingMovies']\n",
    "for col in service_columns:\n",
    "    print(\"unique categories\",df[col].unique())\n",
    "    print(\"value counts\",df[col].value_counts())"
   ]
  },
  {
   "cell_type": "code",
   "execution_count": 17,
   "id": "8e4ad496-fdb3-48e0-a31e-d1bc274b976b",
   "metadata": {},
   "outputs": [],
   "source": [
    "def preprocessed_service_columns(df):\n",
    "    df_preprocessed=df.copy()\n",
    "\n",
    "    df_preprocessed['MultipleLines']=df_preprocessed['MultipleLines'].replace({'No phone service':'No'})\n",
    "\n",
    "    internet_dependent_columns=['OnlineSecurity','OnlineBackup','DeviceProtection','TechSupport',\n",
    "                 'StreamingTV','StreamingMovies']\n",
    "\n",
    "    for column in internet_dependent_columns:\n",
    "        df_preprocessed[column]=df_preprocessed[column].replace({'No internet service':'No'})\n",
    "\n",
    "    df_preprocessed['HasPhoneService']=(df_preprocessed['PhoneService']=='Yes').astype(int)\n",
    "    df_preprocessed['HasInternetService']=(df_preprocessed['InternetService']!='No').astype(int)\n",
    "\n",
    "    return df_preprocessed"
   ]
  },
  {
   "cell_type": "code",
   "execution_count": 18,
   "id": "b542641a-ef6f-4205-a4fc-e9e8545dd5d6",
   "metadata": {},
   "outputs": [],
   "source": [
    "df_preprocessed=preprocessed_service_columns(df)"
   ]
  },
  {
   "cell_type": "code",
   "execution_count": 20,
   "id": "9cdc149d-09f0-427a-b265-14210bb36d5d",
   "metadata": {},
   "outputs": [
    {
     "name": "stdout",
     "output_type": "stream",
     "text": [
      "\n",
      "MultipleLines: ['No' 'Yes']\n",
      "\n",
      "InternetService: ['DSL' 'Fiber optic' 'No']\n",
      "\n",
      "OnlineSecurity: ['No' 'Yes']\n",
      "\n",
      "OnlineBackup: ['Yes' 'No']\n",
      "\n",
      "DeviceProtection: ['No' 'Yes']\n",
      "\n",
      "TechSupport: ['No' 'Yes']\n",
      "\n",
      "StreamingTV: ['No' 'Yes']\n",
      "\n",
      "StreamingMovies: ['No' 'Yes']\n"
     ]
    }
   ],
   "source": [
    "for col in service_columns:\n",
    "    print(f\"\\n{col}:\",df_preprocessed[col].unique())"
   ]
  },
  {
   "cell_type": "code",
   "execution_count": 21,
   "id": "2964f01c-8b6e-47fb-bc5b-2b6bb8891a2d",
   "metadata": {},
   "outputs": [],
   "source": [
    "df_preprocessed['TotalServices']=(\n",
    "    (df_preprocessed[['OnlineSecurity','OnlineBackup','DeviceProtection','TechSupport',\n",
    "                 'StreamingTV','StreamingMovies']]=='Yes').sum(axis=1))\n",
    "\n",
    "df_preprocessed['InternetType']=df_preprocessed['InternetService'].map({'DSL':1,'Fiber optic':2,'No':0})"
   ]
  },
  {
   "cell_type": "code",
   "execution_count": 23,
   "id": "554485f8-f848-40ac-bf18-18d5d99e205b",
   "metadata": {},
   "outputs": [],
   "source": [
    "binary_columns=['gender','Partner','Dependents','PhoneService','PaperlessBilling','OnlineSecurity',\n",
    "                'OnlineBackup','DeviceProtection','TechSupport','StreamingTV','StreamingMovies']\n",
    "\n",
    "multi_value_columns=['InternetService','Contract','PaymentMethod']\n",
    "\n",
    "for column in binary_columns:\n",
    "    df_preprocessed[column+'_encoded']=(df_preprocessed[column]=='Yes').astype(int)\n",
    "\n",
    "df_encoded=pd.get_dummies(df_preprocessed,columns=multi_value_columns,prefix=multi_value_columns)"
   ]
  },
  {
   "cell_type": "code",
   "execution_count": 26,
   "id": "c546a269-e53b-42e8-becb-d5cfa844ff2f",
   "metadata": {},
   "outputs": [
    {
     "name": "stdout",
     "output_type": "stream",
     "text": [
      "0:tenure\n",
      "1:MonthlyCharges\n",
      "2:TotalCharges\n",
      "3:TotalServices\n",
      "4:HasInternetService\n",
      "5:gender_encoded\n",
      "6:Partner_encoded\n",
      "7:Dependents_encoded\n",
      "8:PhoneService_encoded\n",
      "9:PaperlessBilling_encoded\n",
      "10:OnlineSecurity_encoded\n",
      "11:OnlineBackup_encoded\n",
      "12:DeviceProtection_encoded\n",
      "13:TechSupport_encoded\n",
      "14:StreamingTV_encoded\n",
      "15:StreamingMovies_encoded\n",
      "16:InternetService_DSL\n",
      "17:InternetService_Fiber optic\n",
      "18:InternetService_No\n",
      "19:Contract_Month-to-month\n",
      "20:Contract_One year\n",
      "21:Contract_Two year\n",
      "22:PaymentMethod_Bank transfer (automatic)\n",
      "23:PaymentMethod_Credit card (automatic)\n",
      "24:PaymentMethod_Electronic check\n",
      "25:PaymentMethod_Mailed check\n"
     ]
    }
   ],
   "source": [
    "numerical_features=['tenure','MonthlyCharges','TotalCharges','TotalServices']\n",
    "\n",
    "encoded_features=[col for col in df_encoded.columns if col.endswith('_encoded') \n",
    "                  or any(prefix in col for prefix in multi_value_columns)]\n",
    "\n",
    "X=df_encoded[numerical_features+encoded_features].values\n",
    "y=(df_encoded['Churn']=='Yes').astype(int).values\n",
    "\n",
    "for i, feature in enumerate(numerical_features+encoded_features):\n",
    "    print(f\"{i}:{feature}\")"
   ]
  },
  {
   "cell_type": "code",
   "execution_count": 30,
   "id": "845d9f74-1eb2-434a-8840-f6c857dd32a4",
   "metadata": {},
   "outputs": [],
   "source": [
    "categorical_columns=['gender','Partner','Dependents','PhoneService','MultipleLines','InternetService',\n",
    "                     'OnlineSecurity','OnlineBackup','DeviceProtection','TechSupport','StreamingTV',\n",
    "                     'StreamingMovies','Contract','PaymentMethod','PaperlessBilling']\n",
    "\n",
    "encoders={}\n",
    "for column in categorical_columns:\n",
    "    encoders[column]=LabelEncoder()\n",
    "    df[column+'_encoded']=encoders[column].fit_transform(df[column])\n",
    "\n",
    "df['TotalCharges']=pd.to_numeric(df['TotalCharges'],errors='coerce')\n",
    "df['TotalCharges'].fillna(0,inplace=True)\n",
    "\n",
    "X=df[['tenure','MonthlyCharges','TotalCharges']+[col + '_encoded' for col in categorical_columns]].values\n",
    "y=LabelEncoder().fit_transform(df['Churn'])"
   ]
  },
  {
   "cell_type": "code",
   "execution_count": 31,
   "id": "ae3e0e2d-93fc-49ce-acd7-1b74767257c1",
   "metadata": {},
   "outputs": [],
   "source": [
    "#class imbalance handling\n",
    "from imblearn.over_sampling import SMOTE\n",
    "from imblearn.under_sampling import RandomUnderSampler\n",
    "from imblearn.pipeline import Pipeline"
   ]
  },
  {
   "cell_type": "code",
   "execution_count": 33,
   "id": "63be9de3-742b-49c2-9562-dbe31369cd09",
   "metadata": {},
   "outputs": [
    {
     "name": "stdout",
     "output_type": "stream",
     "text": [
      "Class0:3233samples(55.55%)\n",
      "Class1:2587samples(44.45%)\n"
     ]
    }
   ],
   "source": [
    "over=SMOTE(sampling_strategy=0.5)\n",
    "under=RandomUnderSampler(sampling_strategy=0.8)\n",
    "\n",
    "resampling=Pipeline([('over',over),('under',under)])\n",
    "\n",
    "X_resampled,y_resampled=resampling.fit_resample(X,y)\n",
    "\n",
    "unique, counts=np.unique(y_resampled,return_counts=True)\n",
    "for label, count in zip(unique, counts):\n",
    "    print(f\"Class{label}:{count}samples({count/len(y_resampled):.2%})\")"
   ]
  },
  {
   "cell_type": "code",
   "execution_count": null,
   "id": "cecf397f-6018-441b-8406-fb4b43ab1f19",
   "metadata": {},
   "outputs": [],
   "source": []
  },
  {
   "cell_type": "code",
   "execution_count": null,
   "id": "bed0b69c-8ce3-4116-8470-606a34b23af2",
   "metadata": {},
   "outputs": [],
   "source": []
  }
 ],
 "metadata": {
  "kernelspec": {
   "display_name": "Python 3 (ipykernel)",
   "language": "python",
   "name": "python3"
  },
  "language_info": {
   "codemirror_mode": {
    "name": "ipython",
    "version": 3
   },
   "file_extension": ".py",
   "mimetype": "text/x-python",
   "name": "python",
   "nbconvert_exporter": "python",
   "pygments_lexer": "ipython3",
   "version": "3.11.7"
  }
 },
 "nbformat": 4,
 "nbformat_minor": 5
}
