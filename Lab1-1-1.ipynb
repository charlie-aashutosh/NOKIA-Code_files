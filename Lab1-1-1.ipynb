{
 "cells": [
  {
   "cell_type": "markdown",
   "metadata": {
    "id": "AdLFmTp9MLGs"
   },
   "source": [
    "# Lab 1: Customer Churn Prediction using Neural Network\n",
    "\n"
   ]
  },
  {
   "cell_type": "code",
   "execution_count": 11,
   "metadata": {
    "id": "ra0cHqYVMaGw"
   },
   "outputs": [],
   "source": [
    "import numpy as np\n",
    "import pandas as pd\n",
    "import torch\n",
    "import torch.nn as nn\n",
    "import torch.optim as optim\n",
    "from sklearn.model_selection import train_test_split\n",
    "from sklearn.preprocessing import StandardScaler, LabelEncoder\n",
    "import matplotlib.pyplot as plt\n",
    "import seaborn as sns"
   ]
  },
  {
   "cell_type": "code",
   "execution_count": 12,
   "metadata": {
    "id": "x1jYdeFQNWJU"
   },
   "outputs": [],
   "source": [
    "# Load the Data Set\n",
    "df = pd.read_csv(\"WA_Fn-UseC_-Telco-Customer-Churn (1).csv\")\n"
   ]
  },
  {
   "cell_type": "code",
   "execution_count": 13,
   "metadata": {
    "colab": {
     "base_uri": "https://localhost:8080/",
     "height": 0
    },
    "id": "6iwnJRMoNWC5",
    "outputId": "bc6ffc04-ee20-4f0b-f090-a0eca2fe248d"
   },
   "outputs": [
    {
     "name": "stdout",
     "output_type": "stream",
     "text": [
      "Dataset Shape: (7043, 21)\n",
      "\n",
      "Dataset Info:\n",
      "<class 'pandas.core.frame.DataFrame'>\n",
      "RangeIndex: 7043 entries, 0 to 7042\n",
      "Data columns (total 21 columns):\n",
      " #   Column            Non-Null Count  Dtype  \n",
      "---  ------            --------------  -----  \n",
      " 0   customerID        7043 non-null   object \n",
      " 1   gender            7043 non-null   object \n",
      " 2   SeniorCitizen     7043 non-null   int64  \n",
      " 3   Partner           7043 non-null   object \n",
      " 4   Dependents        7043 non-null   object \n",
      " 5   tenure            7043 non-null   int64  \n",
      " 6   PhoneService      7043 non-null   object \n",
      " 7   MultipleLines     7043 non-null   object \n",
      " 8   InternetService   7043 non-null   object \n",
      " 9   OnlineSecurity    7043 non-null   object \n",
      " 10  OnlineBackup      7043 non-null   object \n",
      " 11  DeviceProtection  7043 non-null   object \n",
      " 12  TechSupport       7043 non-null   object \n",
      " 13  StreamingTV       7043 non-null   object \n",
      " 14  StreamingMovies   7043 non-null   object \n",
      " 15  Contract          7043 non-null   object \n",
      " 16  PaperlessBilling  7043 non-null   object \n",
      " 17  PaymentMethod     7043 non-null   object \n",
      " 18  MonthlyCharges    7043 non-null   float64\n",
      " 19  TotalCharges      7043 non-null   object \n",
      " 20  Churn             7043 non-null   object \n",
      "dtypes: float64(1), int64(2), object(18)\n",
      "memory usage: 1.1+ MB\n"
     ]
    }
   ],
   "source": [
    "# Display basic information about the dataset\n",
    "print(\"Dataset Shape:\", df.shape)\n",
    "print(\"\\nDataset Info:\")\n",
    "df.info()"
   ]
  },
  {
   "cell_type": "code",
   "execution_count": 14,
   "metadata": {
    "colab": {
     "base_uri": "https://localhost:8080/",
     "height": 377
    },
    "id": "MjuFoHA2NV-y",
    "outputId": "ee7a64e7-25e0-4088-fb55-ddab24e9537c"
   },
   "outputs": [
    {
     "name": "stdout",
     "output_type": "stream",
     "text": [
      "\n",
      "First few rows of the dataset:\n"
     ]
    },
    {
     "data": {
      "text/html": [
       "<div>\n",
       "<style scoped>\n",
       "    .dataframe tbody tr th:only-of-type {\n",
       "        vertical-align: middle;\n",
       "    }\n",
       "\n",
       "    .dataframe tbody tr th {\n",
       "        vertical-align: top;\n",
       "    }\n",
       "\n",
       "    .dataframe thead th {\n",
       "        text-align: right;\n",
       "    }\n",
       "</style>\n",
       "<table border=\"1\" class=\"dataframe\">\n",
       "  <thead>\n",
       "    <tr style=\"text-align: right;\">\n",
       "      <th></th>\n",
       "      <th>customerID</th>\n",
       "      <th>gender</th>\n",
       "      <th>SeniorCitizen</th>\n",
       "      <th>Partner</th>\n",
       "      <th>Dependents</th>\n",
       "      <th>tenure</th>\n",
       "      <th>PhoneService</th>\n",
       "      <th>MultipleLines</th>\n",
       "      <th>InternetService</th>\n",
       "      <th>OnlineSecurity</th>\n",
       "      <th>...</th>\n",
       "      <th>DeviceProtection</th>\n",
       "      <th>TechSupport</th>\n",
       "      <th>StreamingTV</th>\n",
       "      <th>StreamingMovies</th>\n",
       "      <th>Contract</th>\n",
       "      <th>PaperlessBilling</th>\n",
       "      <th>PaymentMethod</th>\n",
       "      <th>MonthlyCharges</th>\n",
       "      <th>TotalCharges</th>\n",
       "      <th>Churn</th>\n",
       "    </tr>\n",
       "  </thead>\n",
       "  <tbody>\n",
       "    <tr>\n",
       "      <th>0</th>\n",
       "      <td>7590-VHVEG</td>\n",
       "      <td>Female</td>\n",
       "      <td>0</td>\n",
       "      <td>Yes</td>\n",
       "      <td>No</td>\n",
       "      <td>1</td>\n",
       "      <td>No</td>\n",
       "      <td>No phone service</td>\n",
       "      <td>DSL</td>\n",
       "      <td>No</td>\n",
       "      <td>...</td>\n",
       "      <td>No</td>\n",
       "      <td>No</td>\n",
       "      <td>No</td>\n",
       "      <td>No</td>\n",
       "      <td>Month-to-month</td>\n",
       "      <td>Yes</td>\n",
       "      <td>Electronic check</td>\n",
       "      <td>29.85</td>\n",
       "      <td>29.85</td>\n",
       "      <td>No</td>\n",
       "    </tr>\n",
       "    <tr>\n",
       "      <th>1</th>\n",
       "      <td>5575-GNVDE</td>\n",
       "      <td>Male</td>\n",
       "      <td>0</td>\n",
       "      <td>No</td>\n",
       "      <td>No</td>\n",
       "      <td>34</td>\n",
       "      <td>Yes</td>\n",
       "      <td>No</td>\n",
       "      <td>DSL</td>\n",
       "      <td>Yes</td>\n",
       "      <td>...</td>\n",
       "      <td>Yes</td>\n",
       "      <td>No</td>\n",
       "      <td>No</td>\n",
       "      <td>No</td>\n",
       "      <td>One year</td>\n",
       "      <td>No</td>\n",
       "      <td>Mailed check</td>\n",
       "      <td>56.95</td>\n",
       "      <td>1889.5</td>\n",
       "      <td>No</td>\n",
       "    </tr>\n",
       "    <tr>\n",
       "      <th>2</th>\n",
       "      <td>3668-QPYBK</td>\n",
       "      <td>Male</td>\n",
       "      <td>0</td>\n",
       "      <td>No</td>\n",
       "      <td>No</td>\n",
       "      <td>2</td>\n",
       "      <td>Yes</td>\n",
       "      <td>No</td>\n",
       "      <td>DSL</td>\n",
       "      <td>Yes</td>\n",
       "      <td>...</td>\n",
       "      <td>No</td>\n",
       "      <td>No</td>\n",
       "      <td>No</td>\n",
       "      <td>No</td>\n",
       "      <td>Month-to-month</td>\n",
       "      <td>Yes</td>\n",
       "      <td>Mailed check</td>\n",
       "      <td>53.85</td>\n",
       "      <td>108.15</td>\n",
       "      <td>Yes</td>\n",
       "    </tr>\n",
       "    <tr>\n",
       "      <th>3</th>\n",
       "      <td>7795-CFOCW</td>\n",
       "      <td>Male</td>\n",
       "      <td>0</td>\n",
       "      <td>No</td>\n",
       "      <td>No</td>\n",
       "      <td>45</td>\n",
       "      <td>No</td>\n",
       "      <td>No phone service</td>\n",
       "      <td>DSL</td>\n",
       "      <td>Yes</td>\n",
       "      <td>...</td>\n",
       "      <td>Yes</td>\n",
       "      <td>Yes</td>\n",
       "      <td>No</td>\n",
       "      <td>No</td>\n",
       "      <td>One year</td>\n",
       "      <td>No</td>\n",
       "      <td>Bank transfer (automatic)</td>\n",
       "      <td>42.30</td>\n",
       "      <td>1840.75</td>\n",
       "      <td>No</td>\n",
       "    </tr>\n",
       "    <tr>\n",
       "      <th>4</th>\n",
       "      <td>9237-HQITU</td>\n",
       "      <td>Female</td>\n",
       "      <td>0</td>\n",
       "      <td>No</td>\n",
       "      <td>No</td>\n",
       "      <td>2</td>\n",
       "      <td>Yes</td>\n",
       "      <td>No</td>\n",
       "      <td>Fiber optic</td>\n",
       "      <td>No</td>\n",
       "      <td>...</td>\n",
       "      <td>No</td>\n",
       "      <td>No</td>\n",
       "      <td>No</td>\n",
       "      <td>No</td>\n",
       "      <td>Month-to-month</td>\n",
       "      <td>Yes</td>\n",
       "      <td>Electronic check</td>\n",
       "      <td>70.70</td>\n",
       "      <td>151.65</td>\n",
       "      <td>Yes</td>\n",
       "    </tr>\n",
       "  </tbody>\n",
       "</table>\n",
       "<p>5 rows × 21 columns</p>\n",
       "</div>"
      ],
      "text/plain": [
       "   customerID  gender  SeniorCitizen Partner Dependents  tenure PhoneService  \\\n",
       "0  7590-VHVEG  Female              0     Yes         No       1           No   \n",
       "1  5575-GNVDE    Male              0      No         No      34          Yes   \n",
       "2  3668-QPYBK    Male              0      No         No       2          Yes   \n",
       "3  7795-CFOCW    Male              0      No         No      45           No   \n",
       "4  9237-HQITU  Female              0      No         No       2          Yes   \n",
       "\n",
       "      MultipleLines InternetService OnlineSecurity  ... DeviceProtection  \\\n",
       "0  No phone service             DSL             No  ...               No   \n",
       "1                No             DSL            Yes  ...              Yes   \n",
       "2                No             DSL            Yes  ...               No   \n",
       "3  No phone service             DSL            Yes  ...              Yes   \n",
       "4                No     Fiber optic             No  ...               No   \n",
       "\n",
       "  TechSupport StreamingTV StreamingMovies        Contract PaperlessBilling  \\\n",
       "0          No          No              No  Month-to-month              Yes   \n",
       "1          No          No              No        One year               No   \n",
       "2          No          No              No  Month-to-month              Yes   \n",
       "3         Yes          No              No        One year               No   \n",
       "4          No          No              No  Month-to-month              Yes   \n",
       "\n",
       "               PaymentMethod MonthlyCharges  TotalCharges Churn  \n",
       "0           Electronic check          29.85         29.85    No  \n",
       "1               Mailed check          56.95        1889.5    No  \n",
       "2               Mailed check          53.85        108.15   Yes  \n",
       "3  Bank transfer (automatic)          42.30       1840.75    No  \n",
       "4           Electronic check          70.70        151.65   Yes  \n",
       "\n",
       "[5 rows x 21 columns]"
      ]
     },
     "execution_count": 14,
     "metadata": {},
     "output_type": "execute_result"
    }
   ],
   "source": [
    "# Display first few rows\n",
    "print(\"\\nFirst few rows of the dataset:\")\n",
    "df.head()"
   ]
  },
  {
   "cell_type": "code",
   "execution_count": 15,
   "metadata": {
    "colab": {
     "base_uri": "https://localhost:8080/",
     "height": 0
    },
    "id": "Z0vU-61WNV8M",
    "outputId": "484f0ee7-85bc-4f33-9926-7c5a8d6262bc"
   },
   "outputs": [
    {
     "name": "stdout",
     "output_type": "stream",
     "text": [
      "\n",
      "Churn Distribution:\n",
      "Churn\n",
      "No     0.73463\n",
      "Yes    0.26537\n",
      "Name: proportion, dtype: float64\n"
     ]
    }
   ],
   "source": [
    "print(\"\\nChurn Distribution:\")\n",
    "churn_dist = df['Churn'].value_counts(normalize=True)\n",
    "print(churn_dist)\n"
   ]
  },
  {
   "cell_type": "markdown",
   "metadata": {
    "id": "oKBsgnsQSOXh"
   },
   "source": [
    "## Task 2: Data Preprocessing and Class Imbalance Handling\n"
   ]
  },
  {
   "cell_type": "code",
   "execution_count": 16,
   "metadata": {
    "colab": {
     "base_uri": "https://localhost:8080/",
     "height": 564
    },
    "id": "GlTMyglLNV1A",
    "outputId": "2eccd834-5601-4977-c242-3f927479648d"
   },
   "outputs": [
    {
     "data": {
      "image/png": "[encoded data removed]",
      "text/plain": [
       "<Figure size 800x600 with 1 Axes>"
      ]
     },
     "metadata": {},
     "output_type": "display_data"
    }
   ],
   "source": [
    "# Visualize class distribution\n",
    "plt.figure(figsize=(8, 6))\n",
    "sns.barplot(x=churn_dist.index, y=churn_dist.values)\n",
    "plt.title('Class Distribution in Churn Dataset')\n",
    "plt.ylabel('Proportion')\n",
    "plt.show()"
   ]
  },
  {
   "cell_type": "markdown",
   "metadata": {
    "id": "DM5GAM1QSTzN"
   },
   "source": [
    "### 2.1 Data Preprocessing\n"
   ]
  },
  {
   "cell_type": "code",
   "execution_count": 17,
   "metadata": {
    "colab": {
     "base_uri": "https://localhost:8080/",
     "height": 0
    },
    "id": "Co5AGn9xQ39y",
    "outputId": "a8b1d415-181c-4cfb-d799-288acd64c283"
   },
   "outputs": [
    {
     "name": "stdout",
     "output_type": "stream",
     "text": [
      "Unique values in service columns:\n",
      "\n",
      "MultipleLines: ['No phone service' 'No' 'Yes']\n",
      "Value counts:\n",
      "MultipleLines\n",
      "No                  3390\n",
      "Yes                 2971\n",
      "No phone service     682\n",
      "Name: count, dtype: int64\n",
      "\n",
      "InternetService: ['DSL' 'Fiber optic' 'No']\n",
      "Value counts:\n",
      "InternetService\n",
      "Fiber optic    3096\n",
      "DSL            2421\n",
      "No             1526\n",
      "Name: count, dtype: int64\n",
      "\n",
      "OnlineSecurity: ['No' 'Yes' 'No internet service']\n",
      "Value counts:\n",
      "OnlineSecurity\n",
      "No                     3498\n",
      "Yes                    2019\n",
      "No internet service    1526\n",
      "Name: count, dtype: int64\n",
      "\n",
      "OnlineBackup: ['Yes' 'No' 'No internet service']\n",
      "Value counts:\n",
      "OnlineBackup\n",
      "No                     3088\n",
      "Yes                    2429\n",
      "No internet service    1526\n",
      "Name: count, dtype: int64\n",
      "\n",
      "DeviceProtection: ['No' 'Yes' 'No internet service']\n",
      "Value counts:\n",
      "DeviceProtection\n",
      "No                     3095\n",
      "Yes                    2422\n",
      "No internet service    1526\n",
      "Name: count, dtype: int64\n",
      "\n",
      "TechSupport: ['No' 'Yes' 'No internet service']\n",
      "Value counts:\n",
      "TechSupport\n",
      "No                     3473\n",
      "Yes                    2044\n",
      "No internet service    1526\n",
      "Name: count, dtype: int64\n",
      "\n",
      "StreamingTV: ['No' 'Yes' 'No internet service']\n",
      "Value counts:\n",
      "StreamingTV\n",
      "No                     2810\n",
      "Yes                    2707\n",
      "No internet service    1526\n",
      "Name: count, dtype: int64\n",
      "\n",
      "StreamingMovies: ['No' 'Yes' 'No internet service']\n",
      "Value counts:\n",
      "StreamingMovies\n",
      "No                     2785\n",
      "Yes                    2732\n",
      "No internet service    1526\n",
      "Name: count, dtype: int64\n"
     ]
    }
   ],
   "source": [
    "# Analyze special cases in services\n",
    "service_columns = ['MultipleLines', 'InternetService', 'OnlineSecurity', 'OnlineBackup',\n",
    "                  'DeviceProtection', 'TechSupport', 'StreamingTV', 'StreamingMovies']\n",
    "\n",
    "print(\"Unique values in service columns:\")\n",
    "for col in service_columns:\n",
    "    print(f\"\\n{col}:\", df[col].unique())\n",
    "    print(\"Value counts:\")\n",
    "    print(df[col].value_counts())\n"
   ]
  },
  {
   "cell_type": "code",
   "execution_count": 18,
   "metadata": {
    "id": "2fdGtAp8Sm5p"
   },
   "outputs": [],
   "source": [
    "# Function to handle special cases in service columns\n",
    "def preprocess_service_columns(df):\n",
    "    df_processed = df.copy()\n",
    "\n",
    "    # Handle MultipleLines special case\n",
    "    df_processed['MultipleLines'] = df_processed['MultipleLines'].replace({\n",
    "        'No phone service': 'No',  # Treat 'No phone service' same as 'No'\n",
    "    })\n",
    "\n",
    "    # Handle Internet-dependent services\n",
    "    internet_dependent_services = ['OnlineSecurity', 'OnlineBackup', 'DeviceProtection',\n",
    "                                 'TechSupport', 'StreamingTV', 'StreamingMovies']\n",
    "\n",
    "    for column in internet_dependent_services:\n",
    "        df_processed[column] = df_processed[column].replace({\n",
    "            'No internet service': 'No'  # Treat 'No internet service' same as 'No'\n",
    "        })\n",
    "\n",
    "    # Create binary flags for service availability\n",
    "    df_processed['HasPhoneService'] = (df_processed['PhoneService'] == 'Yes').astype(int)\n",
    "    df_processed['HasInternetService'] = (df_processed['InternetService'] != 'No').astype(int)\n",
    "\n",
    "    return df_processed\n"
   ]
  },
  {
   "cell_type": "code",
   "execution_count": 19,
   "metadata": {
    "id": "-xkpbv-tSp4_"
   },
   "outputs": [],
   "source": [
    "# Apply preprocessing\n",
    "df_processed = preprocess_service_columns(df)\n"
   ]
  },
  {
   "cell_type": "code",
   "execution_count": 20,
   "metadata": {
    "colab": {
     "base_uri": "https://localhost:8080/",
     "height": 0
    },
    "id": "0022hNfrStbS",
    "outputId": "9734158d-7f0b-469e-fe0e-a3ce190d51e4"
   },
   "outputs": [
    {
     "name": "stdout",
     "output_type": "stream",
     "text": [
      "\n",
      "After preprocessing - Unique values:\n",
      "\n",
      "MultipleLines: ['No' 'Yes']\n",
      "\n",
      "InternetService: ['DSL' 'Fiber optic' 'No']\n",
      "\n",
      "OnlineSecurity: ['No' 'Yes']\n",
      "\n",
      "OnlineBackup: ['Yes' 'No']\n",
      "\n",
      "DeviceProtection: ['No' 'Yes']\n",
      "\n",
      "TechSupport: ['No' 'Yes']\n",
      "\n",
      "StreamingTV: ['No' 'Yes']\n",
      "\n",
      "StreamingMovies: ['No' 'Yes']\n"
     ]
    }
   ],
   "source": [
    "\n",
    "# Verify the changes\n",
    "print(\"\\nAfter preprocessing - Unique values:\")\n",
    "for col in service_columns:\n",
    "    print(f\"\\n{col}:\", df_processed[col].unique())"
   ]
  },
  {
   "cell_type": "code",
   "execution_count": 21,
   "metadata": {
    "id": "K1eV4iDUS265"
   },
   "outputs": [],
   "source": [
    "# Create aggregate service features\n",
    "df_processed['TotalServices'] = (\n",
    "    (df_processed[['OnlineSecurity', 'OnlineBackup', 'DeviceProtection',\n",
    "                  'TechSupport', 'StreamingTV', 'StreamingMovies']] == 'Yes')\n",
    "    .sum(axis=1)\n",
    ")\n",
    "\n",
    "df_processed['InternetType'] = df_processed['InternetService'].map({\n",
    "    'DSL': 1,\n",
    "    'Fiber optic': 2,\n",
    "    'No': 0\n",
    "})"
   ]
  },
  {
   "cell_type": "code",
   "execution_count": 22,
   "metadata": {
    "id": "Njzga3JXTKA-"
   },
   "outputs": [],
   "source": [
    "# Separate columns by encoding type\n",
    "binary_columns = ['gender', 'Partner', 'Dependents', 'PhoneService', 'PaperlessBilling',\n",
    "                 'OnlineSecurity', 'OnlineBackup', 'DeviceProtection', 'TechSupport',\n",
    "                 'StreamingTV', 'StreamingMovies']\n",
    "\n",
    "multi_value_columns = ['InternetService', 'Contract', 'PaymentMethod']\n",
    "\n",
    "# Encode binary columns\n",
    "for column in binary_columns:\n",
    "    df_processed[column + '_encoded'] = (df_processed[column] == 'Yes').astype(int)\n",
    "\n",
    "# Encode multi-value columns using one-hot encoding\n",
    "df_encoded = pd.get_dummies(df_processed, columns=multi_value_columns, prefix=multi_value_columns)\n"
   ]
  },
  {
   "cell_type": "code",
   "execution_count": 23,
   "metadata": {
    "colab": {
     "base_uri": "https://localhost:8080/",
     "height": 0
    },
    "id": "bnlVdq38TP3Q",
    "outputId": "df2ad019-6ff8-4203-b6bb-1b98622265ee"
   },
   "outputs": [
    {
     "name": "stdout",
     "output_type": "stream",
     "text": [
      "\n",
      "Final features:\n",
      "0: tenure\n",
      "1: MonthlyCharges\n",
      "2: TotalCharges\n",
      "3: TotalServices\n",
      "4: HasInternetService\n",
      "5: gender_encoded\n",
      "6: Partner_encoded\n",
      "7: Dependents_encoded\n",
      "8: PhoneService_encoded\n",
      "9: PaperlessBilling_encoded\n",
      "10: OnlineSecurity_encoded\n",
      "11: OnlineBackup_encoded\n",
      "12: DeviceProtection_encoded\n",
      "13: TechSupport_encoded\n",
      "14: StreamingTV_encoded\n",
      "15: StreamingMovies_encoded\n",
      "16: InternetService_DSL\n",
      "17: InternetService_Fiber optic\n",
      "18: InternetService_No\n",
      "19: Contract_Month-to-month\n",
      "20: Contract_One year\n",
      "21: Contract_Two year\n",
      "22: PaymentMethod_Bank transfer (automatic)\n",
      "23: PaymentMethod_Credit card (automatic)\n",
      "24: PaymentMethod_Electronic check\n",
      "25: PaymentMethod_Mailed check\n"
     ]
    }
   ],
   "source": [
    "numerical_features = ['tenure', 'MonthlyCharges', 'TotalCharges', 'TotalServices']\n",
    "encoded_features = [col for col in df_encoded.columns if col.endswith('_encoded') or\n",
    "                   any(prefix in col for prefix in multi_value_columns)]\n",
    "\n",
    "X = df_encoded[numerical_features + encoded_features].values\n",
    "y = (df_encoded['Churn'] == 'Yes').astype(int).values\n",
    "\n",
    "print(\"\\nFinal features:\")\n",
    "for i, feature in enumerate(numerical_features + encoded_features):\n",
    "    print(f\"{i}: {feature}\")"
   ]
  },
  {
   "cell_type": "code",
   "execution_count": 24,
   "metadata": {
    "colab": {
     "base_uri": "https://localhost:8080/",
     "height": 0
    },
    "id": "Fn1K8xPzTb80",
    "outputId": "5fc480a3-6468-4a1c-ab82-045338db22b9"
   },
   "outputs": [],
   "source": [
    "categorical_columns = ['gender', 'Partner', 'Dependents', 'PhoneService', 'MultipleLines',\n",
    "                      'InternetService', 'OnlineSecurity', 'OnlineBackup', 'DeviceProtection',\n",
    "                      'TechSupport', 'StreamingTV', 'StreamingMovies', 'Contract',\n",
    "                      'PaperlessBilling', 'PaymentMethod']\n",
    "\n",
    "encoders = {}\n",
    "for column in categorical_columns:\n",
    "    encoders[column] = LabelEncoder()\n",
    "    df[column + '_encoded'] = encoders[column].fit_transform(df[column])\n",
    "\n",
    "df['TotalCharges'] = pd.to_numeric(df['TotalCharges'], errors='coerce')\n",
    "df['TotalCharges'].fillna(0, inplace=True)\n",
    "\n",
    "X = df[['tenure', 'MonthlyCharges', 'TotalCharges'] +\n",
    "       [col + '_encoded' for col in categorical_columns]].values\n",
    "y = LabelEncoder().fit_transform(df['Churn'])"
   ]
  },
  {
   "cell_type": "code",
   "execution_count": 25,
   "metadata": {
    "id": "urLrpEZLgNYo"
   },
   "outputs": [],
   "source": [
    "from imblearn.over_sampling import SMOTE\n",
    "from imblearn.under_sampling import RandomUnderSampler\n",
    "from imblearn.pipeline import Pipeline"
   ]
  },
  {
   "cell_type": "code",
   "execution_count": 26,
   "metadata": {
    "id": "a7lFy9e2gNQ8"
   },
   "outputs": [],
   "source": [
    "#resampling strategy says that oversampling becomes concerning when the % is 50% or more\n",
    "#undersampling becomes a concern when 80% data is undersampled\n",
    "\n",
    "over=SMOTE(sampling_strategy=0.5)\n",
    "under=RandomUnderSampler(sampling_strategy=0.8)\n",
    "\n",
    "#creating a resampling pipeline\n",
    "resampling=Pipeline([('over',over),('under',under)])\n",
    "\n",
    "X_resampled,y_resampled=resampling.fit_resample(X,y)"
   ]
  },
  {
   "cell_type": "code",
   "execution_count": 27,
   "metadata": {},
   "outputs": [],
   "source": [
    "X_train,X_test,y_train,y_test=train_test_split(X_resampled,y_resampled,train_size=0.8)"
   ]
  },
  {
   "cell_type": "code",
   "execution_count": 28,
   "metadata": {},
   "outputs": [],
   "source": [
    "X_train_tensor=torch.FloatTensor(X_train)\n",
    "y_train_tensor=torch.FloatTensor(y_train)\n",
    "X_test_tensor=torch.FloatTensor(X_test)\n",
    "y_test_tensor=torch.FloatTensor(y_test)"
   ]
  },
  {
   "cell_type": "code",
   "execution_count": null,
   "metadata": {},
   "outputs": [],
   "source": []
  }
 ],
 "metadata": {
  "accelerator": "GPU",
  "colab": {
   "gpuType": "T4",
   "provenance": []
  },
  "kernelspec": {
   "display_name": "Python 3 (ipykernel)",
   "language": "python",
   "name": "python3"
  },
  "language_info": {
   "codemirror_mode": {
    "name": "ipython",
    "version": 3
   },
   "file_extension": ".py",
   "mimetype": "text/x-python",
   "name": "python",
   "nbconvert_exporter": "python",
   "pygments_lexer": "ipython3",
   "version": "3.11.7"
  }
 },
 "nbformat": 4,
 "nbformat_minor": 4
}
